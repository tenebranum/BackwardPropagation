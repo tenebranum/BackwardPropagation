{
 "cells": [
  {
   "cell_type": "markdown",
   "metadata": {},
   "source": [
    "                                            import needed modules"
   ]
  },
  {
   "cell_type": "code",
   "execution_count": 1,
   "metadata": {},
   "outputs": [],
   "source": [
    "%matplotlib inline\n",
    "\n",
    "from utils import *\n",
    "from main_second import *\n",
    "import json\n",
    "import matplotlib.pyplot as plt\n",
    "import numpy as np"
   ]
  },
  {
   "cell_type": "markdown",
   "metadata": {},
   "source": [
    "                                read, pre-process and draw power consumption data"
   ]
  },
  {
   "cell_type": "code",
   "execution_count": null,
   "metadata": {},
   "outputs": [],
   "source": [
    "data = read_csv('Electricity_BME.csv')\n",
    "work_data = data[len(data) // 2:]\n",
    "future_data = data[:len(data) // 2]\n",
    "for i in range(1, len(work_data)):\n",
    "    if work_data[i]['Pt'] - work_data[i - 1]['Pt'] <= 0:\n",
    "        work_data[i]['St'] = work_data[i - 1]['St']\n",
    "        work_data[i]['Pt'] = work_data[i - 1]['Pt']\n",
    "        work_data[i]['Qt'] = work_data[i - 1]['Qt']\n",
    "for i in range(1, len(future_data)):\n",
    "    if future_data[i]['Pt'] - future_data[i - 1]['Pt'] <= 0:\n",
    "        future_data[i]['St'] = future_data[i - 1]['St']\n",
    "        future_data[i]['Pt'] = future_data[i - 1]['Pt']\n",
    "        future_data[i]['Qt'] = future_data[i - 1]['Qt']\n",
    "first_consumption = calculate_average_power(\n",
    "    [work_data[i]['St'] - work_data[i - 1]['St'] for i in range(1, len(work_data))],\n",
    "    time='month'\n",
    ")\n",
    "second_consumption = calculate_average_power(\n",
    "    [future_data[i]['St'] - future_data[i - 1]['St'] for i in range(1, len(future_data))],\n",
    "    time='month'\n",
    ")\n",
    "fig, ax = plt.subplots()\n",
    "labels = [x for x in range(1, 13)]\n",
    "x = np.arange(len(labels))\n",
    "rects1 = ax.bar(x - 0.35/2, first_consumption, 0.35, label='First year (data for training)')\n",
    "rects2 = ax.bar(x + 0.35/2, second_consumption, 0.35, label='Second year')\n",
    "# Add some text for labels, title and custom x-axis tick labels, etc.\n",
    "ax.set_ylabel('Values, Watt')\n",
    "ax.set_title('Power consumption')\n",
    "ax.set_xticks(x)\n",
    "ax.set_xticklabels(labels)\n",
    "ax.legend()\n",
    "fig.tight_layout()\n",
    "plt.show()"
   ]
  },
  {
   "cell_type": "markdown",
   "metadata": {},
   "source": [
    "                                        define inputs for neural network"
   ]
  },
  {
   "cell_type": "code",
   "execution_count": 3,
   "metadata": {},
   "outputs": [],
   "source": [
    "cofs_delta = dict()\n",
    "cofs = dict()\n",
    "for key in ['Pt', 'Qt', 'St']:\n",
    "    cofs_delta[key] = (\n",
    "        min([work_data[i][key] - work_data[i - 1][key] for i in range(1, len(work_data))]),\n",
    "        max([work_data[i][key] - work_data[i - 1][key] for i in range(1, len(work_data))])\n",
    "    )\n",
    "for key in ['V', 'I', 'f', 'DPF', 'APF', 'P', 'Q', 'S']:\n",
    "    cofs[key] = (\n",
    "        min([work_data[i][key] for i in range(1, len(work_data))]),\n",
    "        max([work_data[i][key] for i in range(1, len(work_data))])\n",
    "    )\n",
    "inputs = list()\n",
    "for i in range(1, len(work_data)):\n",
    "    inputs.append([])\n",
    "    for key, value in cofs.items():\n",
    "        inputs[-1].append((work_data[i][key] - value[0]) / (value[1] - value[0]))\n",
    "    for key, value in cofs_delta.items():\n",
    "        inputs[-1].append((work_data[i][key] - work_data[i - 1][key] - value[0]) / (value[1] - value[0]))"
   ]
  },
  {
   "cell_type": "markdown",
   "metadata": {},
   "source": [
    "                                        initialize neural network"
   ]
  },
  {
   "cell_type": "code",
   "execution_count": 4,
   "metadata": {},
   "outputs": [],
   "source": [
    "dataset = inputs\n",
    "n_inputs = len(dataset[0]) - 1\n",
    "n_outputs = len(set([row[-1] for row in dataset]))\n",
    "try:\n",
    "    with open('neural_network.json', 'r') as file:\n",
    "        network = list(json.load(file))\n",
    "except:\n",
    "    network = initialize_network(n_inputs, 10, 1)"
   ]
  },
  {
   "cell_type": "markdown",
   "metadata": {},
   "source": [
    "                                      neural train and weights update part"
   ]
  },
  {
   "cell_type": "code",
   "execution_count": 5,
   "metadata": {},
   "outputs": [],
   "source": [
    "train_network(network, dataset, 0.3, 1)\n",
    "with open('neural_network.json', 'w') as file:\n",
    "    json.dump(network, file)"
   ]
  },
  {
   "cell_type": "markdown",
   "metadata": {},
   "source": [
    "                                 calculate power consumption with neural network"
   ]
  },
  {
   "cell_type": "code",
   "execution_count": 16,
   "metadata": {},
   "outputs": [
    {
     "name": "stdout",
     "output_type": "stream",
     "text": [
      "actually: 28607.1   expected: 26159.0   relative error: 9.35865 %\n",
      "actually: 22006.6   expected: 19609.0   relative error: 12.2269 %\n",
      "actually: 25670.4   expected: 22329.0   relative error: 14.9645 %\n",
      "actually: 25064.9   expected: 27032.0   relative error: 7.27702 %\n",
      "actually: 15885.1   expected: 13290.0   relative error: 19.5265 %\n",
      "actually: 22892.8   expected: 20317.0   relative error: 12.6779 %\n",
      "actually: 31188.7   expected: 28384.0   relative error: 9.88144 %\n",
      "actually: 26123.5   expected: 22959.0   relative error: 13.7831 %\n",
      "actually: 25200.0   expected: 22292.0   relative error: 13.0449 %\n",
      "actually: 25913.4   expected: 22393.0   relative error: 15.7212 %\n",
      "actually: 20044.0   expected: 16588.0   relative error: 20.8344 %\n",
      "actually: 48253.6   expected: 44669.0   relative error: 8.02478 %\n"
     ]
    }
   ],
   "source": [
    "actually_values = list()\n",
    "expected_values = list()\n",
    "for vector in inputs:\n",
    "    actually = forward_propagate(network, vector)[0]\n",
    "    actually = actually * (cofs_delta['St'][1] - cofs_delta['St'][0]) + cofs_delta['St'][0]\n",
    "    expected = vector[-1] * (cofs_delta['St'][1] - cofs_delta['St'][0]) + cofs_delta['St'][0]\n",
    "    actually_values.append(actually)\n",
    "    expected_values.append(expected)\n",
    "avg_actual = calculate_average_power(actually_values, time='month')\n",
    "avg_expected = calculate_average_power(expected_values, time='month')\n",
    "for row_actual, row_expected in zip(avg_actual, avg_expected):\n",
    "    try:\n",
    "        relative_error = abs(row_expected - row_actual) / row_expected * 100\n",
    "    except ZeroDivisionError as e:\n",
    "        relative_error = 'no result'\n",
    "    print('actually: {:.6}   expected: {:.6}   relative error: {:.6} %'.format(row_actual,\n",
    "                                                                               row_expected,\n",
    "                                                                               relative_error))"
   ]
  },
  {
   "cell_type": "markdown",
   "metadata": {},
   "source": [
    "                               draw histogram with actual and expected power consumption"
   ]
  },
  {
   "cell_type": "code",
   "execution_count": 17,
   "metadata": {},
   "outputs": [
    {
     "data": {
      "image/png": "[encoded data removed]",
      "text/plain": [
       "<Figure size 432x288 with 1 Axes>"
      ]
     },
     "metadata": {
      "needs_background": "light"
     },
     "output_type": "display_data"
    }
   ],
   "source": [
    "fig, ax = plt.subplots()\n",
    "labels = [x for x in range(1, 13)]\n",
    "x = np.arange(len(labels))\n",
    "rects1 = ax.bar(x - 0.3 / 2, avg_expected, 0.3, label='Expected')\n",
    "rects2 = ax.bar(x + 0.3 / 2, avg_actual, 0.3, label='Actual')\n",
    "# Add some text for labels, title and custom x-axis tick labels, etc.\n",
    "ax.set_ylabel('Values, Watt')\n",
    "ax.set_title('Power consumption')\n",
    "ax.set_xticks(x)\n",
    "ax.set_xticklabels(labels)\n",
    "ax.legend()\n",
    "fig.tight_layout()\n",
    "plt.show()"
   ]
  },
  {
   "cell_type": "code",
   "execution_count": null,
   "metadata": {},
   "outputs": [],
   "source": []
  }
 ],
 "metadata": {
  "kernelspec": {
   "display_name": "Python 3",
   "language": "python",
   "name": "python3"
  },
  "language_info": {
   "codemirror_mode": {
    "name": "ipython",
    "version": 3
   },
   "file_extension": ".py",
   "mimetype": "text/x-python",
   "name": "python",
   "nbconvert_exporter": "python",
   "pygments_lexer": "ipython3",
   "version": "3.6.10"
  }
 },
 "nbformat": 4,
 "nbformat_minor": 4
}
